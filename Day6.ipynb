{
 "cells": [
  {
   "cell_type": "markdown",
   "metadata": {},
   "source": [
    "__Assuming that we have some email addresses in the \"username@companyname.com\" format, please write program\n",
    "to print the company name of a given email address. Both user names and company names are composed of letters\n",
    "only.__"
   ]
  },
  {
   "cell_type": "code",
   "execution_count": 2,
   "metadata": {},
   "outputs": [
    {
     "name": "stdout",
     "output_type": "stream",
     "text": [
      "jahanvi@google.com\n",
      "google\n"
     ]
    }
   ],
   "source": [
    "mail = input(\"Enter your mail address: \")\n",
    "s = mail.index('@')\n",
    "e = mail.index('.')\n",
    "print(mail[s+1:e])"
   ]
  },
  {
   "cell_type": "markdown",
   "metadata": {},
   "source": [
    "__Write a program that accepts a comma-separated sequence of words as input and prints the words in a comma\n",
    "separated sequence after sorting them alphabetically.__"
   ]
  },
  {
   "cell_type": "code",
   "execution_count": 4,
   "metadata": {},
   "outputs": [
    {
     "name": "stdout",
     "output_type": "stream",
     "text": [
      "Enter comma seperated words: hat,sat,cat,mat\n",
      "cat,hat,mat,sat\n"
     ]
    }
   ],
   "source": [
    "li = [i for i in input(\"Enter comma seperated words: \").split(',')]\n",
    "li.sort()\n",
    "for i in range(len(li)-1):\n",
    "    print(li[i],end = \",\")\n",
    "print(li[len(li)-1])"
   ]
  },
  {
   "cell_type": "markdown",
   "metadata": {},
   "source": [
    "__Given a list of n-1 numbers ranging from 1 to n, your task is to find the missing number. There are no duplicates__"
   ]
  },
  {
   "cell_type": "code",
   "execution_count": 1,
   "metadata": {},
   "outputs": [
    {
     "name": "stdout",
     "output_type": "stream",
     "text": [
      "Enter space seperated integers: 1 2 9 6 3 8 4 5 \n",
      "7\n"
     ]
    }
   ],
   "source": [
    "li = [int(i) for i in input(\"Enter space seperated integers: \").split()]\n",
    "li.sort()\n",
    "for i in range(len(li)):\n",
    "    if(li[i] != i+1):\n",
    "        print(i+1)\n",
    "        break"
   ]
  },
  {
   "cell_type": "code",
   "execution_count": 2,
   "metadata": {},
   "outputs": [
    {
     "name": "stdout",
     "output_type": "stream",
     "text": [
      "Enter space sepearted integers: 1 2 5 9 6 3 4 2 5 8 6 3 \n",
      "1 2 5 9 6 3 4 8 "
     ]
    }
   ],
   "source": [
    "li = [int(i) for i in input(\"Enter space sepearted integers: \").split()]\n",
    "li1 = []\n",
    "for i in li:\n",
    "    if i not in li1:\n",
    "        li1.append(i)\n",
    "for i in li1:\n",
    "    print(i,end = \" \")"
   ]
  }
 ],
 "metadata": {
  "kernelspec": {
   "display_name": "Python 3",
   "language": "python",
   "name": "python3"
  },
  "language_info": {
   "codemirror_mode": {
    "name": "ipython",
    "version": 3
   },
   "file_extension": ".py",
   "mimetype": "text/x-python",
   "name": "python",
   "nbconvert_exporter": "python",
   "pygments_lexer": "ipython3",
   "version": "3.6.5"
  }
 },
 "nbformat": 4,
 "nbformat_minor": 2
}
