{
 "cells": [
  {
   "cell_type": "markdown",
   "metadata": {},
   "source": [
    "__Research on whether addition, subtraction, multiplication, division, floor division and modulo\n",
    "operations be performed on complex numbers. Based on your study, implement a Python\n",
    "program to demonstrate these operations.__"
   ]
  },
  {
   "cell_type": "code",
   "execution_count": 7,
   "metadata": {},
   "outputs": [
    {
     "name": "stdout",
     "output_type": "stream",
     "text": [
      "Enter a value for z1: 2\n",
      "Enter b value for z1: 3\n",
      "Enter a value for z2: 4\n",
      "Enter b value for z2: 5\n",
      "The sum of z1 and z2 is (6+8j)\n",
      "The difference of z1 and z2 is (-2-2j)\n",
      "The product of z1 and z2 is (-7+22j)\n",
      "The division of z1 and z2 is (0.5609756097560976+0.0487804878048781j)\n"
     ]
    },
    {
     "data": {
      "text/plain": [
       "'By my observation I have found that floor division and modulo cannot be performed for two complex numbers.'"
      ]
     },
     "execution_count": 7,
     "metadata": {},
     "output_type": "execute_result"
    }
   ],
   "source": [
    "a = int(input(\"Enter a value for z1: \"))\n",
    "b = int(input(\"Enter b value for z1: \"))\n",
    "a1 = int(input(\"Enter a value for z2: \"))\n",
    "b1 = int(input(\"Enter b value for z2: \"))\n",
    "z1 = complex(a,b)\n",
    "z2 = complex(a1,b1)\n",
    "print(\"The sum of z1 and z2 is\",z1+z2)\n",
    "print(\"The difference of z1 and z2 is\",z1-z2)\n",
    "print(\"The product of z1 and z2 is\",z1*z2)\n",
    "print(\"The division of z1 and z2 is\",z1/z2)\n",
    "#print(\"The floor division of z1 and z2 is\",z1//z2)\n",
    "#print(\"The modulo of z1 and z2 is\",z1%z2)\n",
    "\"\"\"By my observation I have found that floor division and modulo cannot be performed for two complex numbers.\"\"\""
   ]
  },
  {
   "cell_type": "markdown",
   "metadata": {},
   "source": [
    "__Research on range() functions and its parameters. Create a markdown cell and write in your own\n",
    "words (no copy-paste from google please) what you understand about it. Implement a small\n",
    "program of your choice on the same.__"
   ]
  },
  {
   "cell_type": "markdown",
   "metadata": {},
   "source": [
    "Range function is used for having the values between the specifies range.\n",
    "Syntax:-range(start,stop,step)\n",
    "start and step are optional if we want to start from 0 and increase the step by 1.\n",
    "If we want to start from some other number rather than 0 then we will include start in the range function i.e, range(somenumber,stop).\n",
    "If we want to increase the step rather than 1 then we can include step but th syntax is range(,stop,step) so here start is 0.\n",
    "Based on our start, step,and stop the range function gives us the opuput and the stop number will be excluded. "
   ]
  },
  {
   "cell_type": "code",
   "execution_count": 8,
   "metadata": {},
   "outputs": [
    {
     "name": "stdout",
     "output_type": "stream",
     "text": [
      "1\n",
      "3\n",
      "5\n",
      "7\n",
      "9\n"
     ]
    }
   ],
   "source": [
    "for i in range(1,10,2):\n",
    "    print(i)"
   ]
  },
  {
   "cell_type": "markdown",
   "metadata": {},
   "source": [
    "__Consider two numbers. Perform their subtraction and if the result of subtraction is greater than\n",
    "25, print their multiplication result else print their division result.__"
   ]
  },
  {
   "cell_type": "code",
   "execution_count": 10,
   "metadata": {},
   "outputs": [
    {
     "name": "stdout",
     "output_type": "stream",
     "text": [
      "Enter a value: 65\n",
      "Enter b value: 35\n",
      "2275\n"
     ]
    }
   ],
   "source": [
    "a = int(input(\"Enter a value: \"))\n",
    "b = int(input(\"Enter b value: \"))\n",
    "c = a-b\n",
    "if(c > 25):\n",
    "    print(a*b)\n",
    "else:\n",
    "    print(a/b)"
   ]
  },
  {
   "cell_type": "markdown",
   "metadata": {},
   "source": [
    "__Consider a list of 10 elements of integer values. If the number in the list is divisible by 2, print the\n",
    "result as \"square of that number minus 2\".__"
   ]
  },
  {
   "cell_type": "code",
   "execution_count": 11,
   "metadata": {},
   "outputs": [
    {
     "name": "stdout",
     "output_type": "stream",
     "text": [
      "142\n",
      "194\n",
      "62\n",
      "1294\n",
      "3362\n"
     ]
    }
   ],
   "source": [
    "li = [12,9,14,5,8,36,85,96.99,58]\n",
    "for i in li:\n",
    "    if(i % 2 == 0):\n",
    "        print(pow(i,2)-2)"
   ]
  },
  {
   "cell_type": "markdown",
   "metadata": {},
   "source": [
    "__Consider a list of 10 elements. Print all the elements in the list which are greater than 7 when that\n",
    "number is divided 2.__"
   ]
  },
  {
   "cell_type": "code",
   "execution_count": 12,
   "metadata": {},
   "outputs": [
    {
     "name": "stdout",
     "output_type": "stream",
     "text": [
      "85\n",
      "89\n",
      "56\n",
      "25\n",
      "74\n",
      "36\n"
     ]
    }
   ],
   "source": [
    "li = [85,2,89,56,25,12,74,36,10,4]\n",
    "for i in li:\n",
    "    if(i / 2 > 7):\n",
    "        print(i)"
   ]
  }
 ],
 "metadata": {
  "kernelspec": {
   "display_name": "Python 3",
   "language": "python",
   "name": "python3"
  },
  "language_info": {
   "codemirror_mode": {
    "name": "ipython",
    "version": 3
   },
   "file_extension": ".py",
   "mimetype": "text/x-python",
   "name": "python",
   "nbconvert_exporter": "python",
   "pygments_lexer": "ipython3",
   "version": "3.6.5"
  }
 },
 "nbformat": 4,
 "nbformat_minor": 2
}
