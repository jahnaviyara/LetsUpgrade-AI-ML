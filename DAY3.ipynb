{
 "cells": [
  {
   "cell_type": "markdown",
   "metadata": {},
   "source": [
    "Write a program to subtract two complex numbers in Python."
   ]
  },
  {
   "cell_type": "code",
   "execution_count": 6,
   "metadata": {},
   "outputs": [
    {
     "name": "stdout",
     "output_type": "stream",
     "text": [
      "Enter a for z1: 2\n",
      "Enter b for z1: 3\n",
      "Enter a for z2: 4\n",
      "Enter b for z2: 5\n",
      "Subraction of two complex numbers (2+3j) and (4+5j) is (-2-2j)\n"
     ]
    }
   ],
   "source": [
    "a = int(input(\"Enter a for z1: \"))\n",
    "b = int(input(\"Enter b for z1: \"))\n",
    "a1 = int(input(\"Enter a for z2: \"))\n",
    "b1 = int(input(\"Enter b for z2: \"))\n",
    "z1 = complex(a,b)\n",
    "z2 = complex(a1,b1)\n",
    "print(\"Subraction of two complex numbers\",z1,\"and\",z2,\"is\",z1-z2)"
   ]
  },
  {
   "cell_type": "markdown",
   "metadata": {},
   "source": [
    "Write a program to find the fourth root of a number."
   ]
  },
  {
   "cell_type": "code",
   "execution_count": 4,
   "metadata": {},
   "outputs": [
    {
     "name": "stdout",
     "output_type": "stream",
     "text": [
      "Enter a number to find fourth root of a number: 16\n",
      "Fourth root of 16 is 2.0\n"
     ]
    }
   ],
   "source": [
    "a = int(input(\"Enter a number to find fourth root of a number: \"))\n",
    "result = pow(a,0.25)\n",
    "print(\"Fourth root of\",a,\"is\",result)"
   ]
  },
  {
   "cell_type": "markdown",
   "metadata": {},
   "source": [
    "Write a program to swap two numbers in Python with the help of a temporary variable"
   ]
  },
  {
   "cell_type": "code",
   "execution_count": 7,
   "metadata": {},
   "outputs": [
    {
     "name": "stdout",
     "output_type": "stream",
     "text": [
      "Enter value of a: 2\n",
      "Enter value of b: 3\n",
      "Before swapping\n",
      "Value of a: 2 Value of b: 3\n",
      "After swapping\n",
      "Value of a: 3 Value of b: 2\n"
     ]
    }
   ],
   "source": [
    "a = int(input(\"Enter value of a: \"))\n",
    "b = int(input(\"Enter value of b: \"))\n",
    "print(\"Before swapping\")\n",
    "print(\"Value of a:\",a,\"Value of b:\",b)\n",
    "t = a\n",
    "a = b\n",
    "b = t\n",
    "print(\"After swapping\")\n",
    "print(\"Value of a:\",a,\"Value of b:\",b)"
   ]
  },
  {
   "cell_type": "markdown",
   "metadata": {},
   "source": [
    "Write a program to swap two numbers in Python without using a temporary variable."
   ]
  },
  {
   "cell_type": "code",
   "execution_count": 8,
   "metadata": {},
   "outputs": [
    {
     "name": "stdout",
     "output_type": "stream",
     "text": [
      "Enter value of a: 1\n",
      "Enter value of b: 2\n",
      "Before swapping\n",
      "Value of a: 1 Value of b: 2\n",
      "After swapping\n",
      "Value of a: 2 Value of b: 1\n"
     ]
    }
   ],
   "source": [
    "a = int(input(\"Enter value of a: \"))\n",
    "b = int(input(\"Enter value of b: \"))\n",
    "print(\"Before swapping\")\n",
    "print(\"Value of a:\",a,\"Value of b:\",b)\n",
    "a,b = b,a\n",
    "print(\"After swapping\")\n",
    "print(\"Value of a:\",a,\"Value of b:\",b)"
   ]
  },
  {
   "cell_type": "markdown",
   "metadata": {},
   "source": [
    "Write a program to convert fahrenheit to kelvin and celsius both."
   ]
  },
  {
   "cell_type": "code",
   "execution_count": 9,
   "metadata": {},
   "outputs": [
    {
     "name": "stdout",
     "output_type": "stream",
     "text": [
      "Enter the temperature in farenheit: 32\n",
      "32 f in celcius is 0.0\n",
      "32 f in Kelvin is 273.15\n"
     ]
    }
   ],
   "source": [
    "f = int(input(\"Enter the temperature in farenheit: \"))\n",
    "c = (f-32)*(5/9)\n",
    "print(f,\"f in celcius is\",c)\n",
    "k = c+273.15\n",
    "print(f,\"f in Kelvin is\",k)"
   ]
  },
  {
   "cell_type": "markdown",
   "metadata": {},
   "source": [
    "Write a program to demonstrate all the available data types in Python. Hint: Use type() function."
   ]
  },
  {
   "cell_type": "code",
   "execution_count": 12,
   "metadata": {},
   "outputs": [
    {
     "name": "stdout",
     "output_type": "stream",
     "text": [
      "Type of 12 is <class 'int'>\n",
      "Type of 12.03 is <class 'float'>\n",
      "Type of Jahnavi is <class 'str'>\n",
      "Type of (2+3j) is <class 'complex'>\n",
      "Type of True is <class 'bool'>\n",
      "Type of (1, 2, 3) is <class 'tuple'>\n",
      "Type of [5, 7, 8] is <class 'list'>\n",
      "Type of {1, 2, 3} is <class 'set'>\n",
      "Type of {'a': 'apple', 'b': 'banana'} is <class 'dict'>\n"
     ]
    }
   ],
   "source": [
    "a = 12\n",
    "print(\"Type of\",a,\"is\",type(a))\n",
    "b = 12.03\n",
    "print(\"Type of\",b,\"is\",type(b))\n",
    "c = \"Jahnavi\"\n",
    "print(\"Type of\",c,\"is\",type(c))\n",
    "d = 2+3j\n",
    "print(\"Type of\",d,\"is\",type(d))\n",
    "e = True\n",
    "print(\"Type of\",e,\"is\",type(e))\n",
    "f = (1,2,3)\n",
    "print(\"Type of\",f,\"is\",type(f))\n",
    "g = [5,7,8]\n",
    "print(\"Type of\",g,\"is\",type(g))\n",
    "h = {1,2,3}\n",
    "print(\"Type of\",h,\"is\",type(h))\n",
    "i = {\"a\":\"apple\",\"b\":\"banana\"}\n",
    "print(\"Type of\",i,\"is\",type(i))"
   ]
  },
  {
   "cell_type": "markdown",
   "metadata": {},
   "source": [
    "Create a Markdown cell in jupyter and list the steps discussed in the session by Dr. Darshan\n",
    "Ingle sir to create Github profile and upload Githubs Assignment link."
   ]
  },
  {
   "cell_type": "raw",
   "metadata": {},
   "source": [
    "step 1:-Create a GitHub account\n",
    "step 2:-On the left we will find Repositories column.\n",
    "Step 3:-Create a new repository on the name of \"LetsUpgtrade AI-ML\"\n",
    "Repository for uploading the Assignments has been created.\n",
    "Step 4:-Go to \"LetsUpgtrade AI-ML\" repository.\n",
    "Step 5:-Now click on \"upload existing file\"\n",
    "Step 6:-Drag and drop the files to be uploaded.\n",
    "Step 7:-Click on commit changes and get the URL of the file uploaded\n",
    "Step 8:-Now paste this URL in the LetsUpgrade google form to submit the assignment."
   ]
  }
 ],
 "metadata": {
  "kernelspec": {
   "display_name": "Python 3",
   "language": "python",
   "name": "python3"
  },
  "language_info": {
   "codemirror_mode": {
    "name": "ipython",
    "version": 3
   },
   "file_extension": ".py",
   "mimetype": "text/x-python",
   "name": "python",
   "nbconvert_exporter": "python",
   "pygments_lexer": "ipython3",
   "version": "3.6.5"
  }
 },
 "nbformat": 4,
 "nbformat_minor": 2
}
