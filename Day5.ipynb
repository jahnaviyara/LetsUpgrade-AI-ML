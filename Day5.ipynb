{
 "cells": [
  {
   "cell_type": "markdown",
   "metadata": {},
   "source": [
    "__Write a Python program to find the first 20 non-even prime natural numbers__"
   ]
  },
  {
   "cell_type": "code",
   "execution_count": 3,
   "metadata": {},
   "outputs": [
    {
     "name": "stdout",
     "output_type": "stream",
     "text": [
      "1 3 5 7 11 13 17 19 23 29 31 37 41 43 47 53 59 61 67 71 "
     ]
    }
   ],
   "source": [
    "def isprime(n):\n",
    "    count = 0\n",
    "    for i in range(2,n):\n",
    "        if n%i == 0:\n",
    "            count += 1\n",
    "    if(count == 0):\n",
    "        return True\n",
    "    return False\n",
    "\n",
    "i = 1\n",
    "count = 0\n",
    "while(count < 20):\n",
    "    if(i % 2 != 0):\n",
    "        if(isprime(i)):\n",
    "            print(i,end = \" \")\n",
    "            count += 1\n",
    "    i += 1;"
   ]
  },
  {
   "cell_type": "markdown",
   "metadata": {},
   "source": [
    "__Write a Python program to implement 15 functions of string.__"
   ]
  },
  {
   "cell_type": "code",
   "execution_count": 19,
   "metadata": {},
   "outputs": [
    {
     "name": "stdout",
     "output_type": "stream",
     "text": [
      "7\n",
      "1\n",
      "JAHNAVI\n",
      "False\n",
      "                                              jahnavi                                               \n",
      "True\n",
      "jahnaviyara\n",
      "jahnavi\n",
      "2\n",
      "jzhnzvi\n",
      "['jahnavi', 'yara']\n",
      "JAHNAVI\n",
      "6\n",
      "False\n",
      "False\n"
     ]
    }
   ],
   "source": [
    "st = \"jahnavi\"\n",
    "st1 = \"yara\"\n",
    "print(len(st)) #helps to find the length of string.\n",
    "print(st.find('a')) #helps us to find the required letter i.e, position of the letter.\n",
    "print(st.upper()) #It helps the string to convert into uppercase.\n",
    "print(st.isupper()) #Return true if the given string is in uppercase.\n",
    "print(st.center(100)) #helps the string to place in certain position i.e, making it as center.\n",
    "print(st.isalpha()) #Returns true if the string contains only alphabets.\n",
    "print(st+st1) #used for concatenating the string.\n",
    "print(st.lower()) #Converts the string into lowercase.\n",
    "print(st.count('a')) #count the no.of required alphabets/characters in a string.\n",
    "print(st.replace('a','z')) #replaces the given element with the required element.\n",
    "print(\"jahnavi@yara\".split('@')) #split the string as per given alphabet/character and convert them into list.\n",
    "print(st.swapcase()) #Swaps the case of the alphabets in a string.\n",
    "print(st.index('i')) #Find the index of the given character.\n",
    "print(st.isnumeric()) #Returns true if string contains numbers.\n",
    "print(st.isspace()) #Return true if string contains only spaces. "
   ]
  },
  {
   "cell_type": "markdown",
   "metadata": {},
   "source": [
    "__Write a Python program to check if the given string is a Palindrome or Anagram or None of them.\n",
    "Display the message accordingly to the user.__"
   ]
  },
  {
   "cell_type": "code",
   "execution_count": 23,
   "metadata": {},
   "outputs": [
    {
     "name": "stdout",
     "output_type": "stream",
     "text": [
      "Enter first string: mom\n",
      "Enter second string: mob\n",
      "mom is a palindrome.\n",
      "mob is not a palindrome.\n",
      "mom and mob are not anagrams.\n"
     ]
    }
   ],
   "source": [
    "def ispalindrome(st):\n",
    "    if(st == st[::-1]):\n",
    "        return True\n",
    "    return False\n",
    "\n",
    "def isanagram(st,st1):\n",
    "    st = sorted(st)\n",
    "    st1 = sorted(st1)\n",
    "    if(st == st1):\n",
    "        return True\n",
    "    return False\n",
    "\n",
    "st = (input(\"Enter first string: \"))\n",
    "st1 = (input(\"Enter second string: \"))\n",
    "if(ispalindrome(st)):\n",
    "    print(st,\"is a palindrome.\")\n",
    "else:\n",
    "    print(st,\"is not a palindrome.\")\n",
    "if(ispalindrome(st1)):\n",
    "    print(st1,\"is a palindrome.\")\n",
    "else:\n",
    "    print(st1,\"is not a palindrome.\")\n",
    "if(isanagram(st,st1)):\n",
    "    print(st,\"and\",st1,\"are anagrams\")\n",
    "else:\n",
    "    print(st,\"and\",st1,\"are not anagrams.\")"
   ]
  },
  {
   "cell_type": "markdown",
   "metadata": {},
   "source": [
    "__Write a Python's user defined function that removes all the additional characters from the string\n",
    "and converts it finally to lower case using built-in lower(). eg: If the string is \"Dr. Darshan Ingle\n",
    "@AI-ML Trainer\", then the output be \"drdarshaningleaimltrainer\".__"
   ]
  },
  {
   "cell_type": "code",
   "execution_count": 26,
   "metadata": {},
   "outputs": [
    {
     "name": "stdout",
     "output_type": "stream",
     "text": [
      "drdarshaningleaimltrainer\n"
     ]
    }
   ],
   "source": [
    "def removecharacter(st):\n",
    "    st1 = \"\"\n",
    "    for i in st:\n",
    "        if ((ord(i) > 64 and ord(i) < 91) or (ord(i) > 96 and ord(i) < 123)):\n",
    "            st1 += i\n",
    "    return st1\n",
    "\n",
    "s = removecharacter(\"Dr. Darshan Ingle @AI-ML Trainer\")\n",
    "print(s.lower())"
   ]
  }
 ],
 "metadata": {
  "kernelspec": {
   "display_name": "Python 3",
   "language": "python",
   "name": "python3"
  },
  "language_info": {
   "codemirror_mode": {
    "name": "ipython",
    "version": 3
   },
   "file_extension": ".py",
   "mimetype": "text/x-python",
   "name": "python",
   "nbconvert_exporter": "python",
   "pygments_lexer": "ipython3",
   "version": "3.6.5"
  }
 },
 "nbformat": 4,
 "nbformat_minor": 2
}
